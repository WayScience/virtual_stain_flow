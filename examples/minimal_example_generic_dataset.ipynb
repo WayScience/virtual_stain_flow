{
 "cells": [
  {
   "cell_type": "markdown",
   "metadata": {},
   "source": [
    "# A minimal example to demonstrate how the trainer for FNet and wGaN GP plus the callbacks works along with patched dataset\n",
    "\n",
    "Is will not be dependent on the pe2loaddata generated index file from the ALSF pilot data repo unlike the other example notebook"
   ]
  },
  {
   "cell_type": "code",
   "execution_count": 1,
   "metadata": {},
   "outputs": [
    {
     "name": "stdout",
     "output_type": "stream",
     "text": [
      "/home/weishanli/Waylab\n"
     ]
    },
    {
     "name": "stderr",
     "output_type": "stream",
     "text": [
      "/home/weishanli/anaconda3/envs/cp_gan_env/lib/python3.9/site-packages/albumentations/__init__.py:28: UserWarning: A new version of Albumentations is available: '2.0.5' (you have '2.0.4'). Upgrade using: pip install -U albumentations. To disable automatic update checks, set the environment variable NO_ALBUMENTATIONS_UPDATE to 1.\n",
      "  check_for_updates()\n"
     ]
    }
   ],
   "source": [
    "import sys\n",
    "import pathlib\n",
    "\n",
    "import pandas as pd\n",
    "import torch.nn as nn\n",
    "import torch.optim as optim\n",
    "\n",
    "sys.path.append(str(pathlib.Path('.').absolute().parent.parent))\n",
    "print(str(pathlib.Path('.').absolute().parent.parent))\n",
    "\n",
    "## Dataset\n",
    "from virtual_stain_flow.datasets.GenericImageDataset import GenericImageDataset\n",
    "from virtual_stain_flow.datasets.CachedDataset import CachedDataset\n",
    "\n",
    "## FNet training\n",
    "from virtual_stain_flow.models.fnet import FNet\n",
    "from virtual_stain_flow.trainers.Trainer import Trainer\n",
    "\n",
    "## wGaN training\n",
    "from virtual_stain_flow.models.unet import UNet\n",
    "from virtual_stain_flow.models.discriminator import GlobalDiscriminator\n",
    "from virtual_stain_flow.trainers.WGaNTrainer import WGaNTrainer\n",
    "\n",
    "## wGaN losses\n",
    "from virtual_stain_flow.losses.GradientPenaltyLoss import GradientPenaltyLoss\n",
    "from virtual_stain_flow.losses.DiscriminatorLoss import DiscriminatorLoss\n",
    "from virtual_stain_flow.losses.GeneratorLoss import GeneratorLoss\n",
    "\n",
    "from virtual_stain_flow.transforms.MinMaxNormalize import MinMaxNormalize\n",
    "\n",
    "## Metrics\n",
    "from virtual_stain_flow.metrics.MetricsWrapper import MetricsWrapper\n",
    "from virtual_stain_flow.metrics.PSNR import PSNR\n",
    "from virtual_stain_flow.metrics.SSIM import SSIM\n",
    "\n",
    "## callback\n",
    "from virtual_stain_flow.callbacks.MlflowLogger import MlflowLogger\n",
    "from virtual_stain_flow.callbacks.IntermediatePlot import IntermediatePlot\n"
   ]
  },
  {
   "cell_type": "markdown",
   "metadata": {},
   "source": [
    "## Specify train data and output paths"
   ]
  },
  {
   "cell_type": "code",
   "execution_count": null,
   "metadata": {
    "tags": [
     "parameters"
    ]
   },
   "outputs": [],
   "source": [
    "EXAMPLE_PATCH_DATA_EXPORT_PATH = '/tmp/WITH/PATH/TO/DATA'\n",
    "\n",
    "EXAMPLE_DIR = pathlib.Path('.').absolute() / 'example_train_generic_dataset'\n",
    "EXAMPLE_DIR.mkdir(exist_ok=True)"
   ]
  },
  {
   "cell_type": "code",
   "execution_count": 3,
   "metadata": {},
   "outputs": [],
   "source": [
    "!rm -rf example_train_generic_dataset/*"
   ]
  },
  {
   "cell_type": "code",
   "execution_count": 4,
   "metadata": {},
   "outputs": [],
   "source": [
    "PLOT_DIR = EXAMPLE_DIR / 'plot'\n",
    "PLOT_DIR.mkdir(parents=True, exist_ok=True)\n",
    "\n",
    "MLFLOW_DIR =EXAMPLE_DIR / 'mlflow'\n",
    "MLFLOW_DIR.mkdir(parents=True, exist_ok=True)"
   ]
  },
  {
   "cell_type": "markdown",
   "metadata": {},
   "source": [
    "## Configure channels"
   ]
  },
  {
   "cell_type": "code",
   "execution_count": 5,
   "metadata": {},
   "outputs": [],
   "source": [
    "channel_names = [\n",
    "    \"OrigBrightfield\",\n",
    "    \"OrigDNA\",\n",
    "    \"OrigER\",\n",
    "    \"OrigMito\",\n",
    "    \"OrigRNA\",\n",
    "    \"OrigAGP\",\n",
    "]\n",
    "input_channel_name = \"OrigBrightfield\"\n",
    "target_channel_names = [ch for ch in channel_names if ch != input_channel_name]"
   ]
  },
  {
   "cell_type": "markdown",
   "metadata": {},
   "source": [
    "## Prep Patch dataset and Cache"
   ]
  },
  {
   "cell_type": "code",
   "execution_count": 6,
   "metadata": {},
   "outputs": [
    {
     "name": "stderr",
     "output_type": "stream",
     "text": [
      "2025-03-03 01:10:09,596 - DEBUG - Channel keys: {'OrigAGP', 'OrigMito', 'OrigER', 'OrigDNA', 'OrigBrightfield', 'OrigRNA'} detected\n",
      "2025-03-03 01:10:09,596 - DEBUG - No channel keys specified, skip\n",
      "2025-03-03 01:10:09,596 - DEBUG - No channel keys specified, skip\n",
      "2025-03-03 01:10:09,596 - DEBUG - Setting input transform ...\n",
      "2025-03-03 01:10:09,596 - DEBUG - Setting target transform ...\n",
      "2025-03-03 01:10:09,597 - DEBUG - Set input channel(s) as ['OrigBrightfield']\n",
      "2025-03-03 01:10:09,597 - DEBUG - Set target channel(s) as ['OrigDNA']\n"
     ]
    }
   ],
   "source": [
    "ds = GenericImageDataset(\n",
    "    image_dir=EXAMPLE_PATCH_DATA_EXPORT_PATH,\n",
    "    site_pattern=r\"^([^_]+_[^_]+_[^_]+)\",\n",
    "    channel_pattern=r\"_([^_]+)\\.tiff$\",\n",
    "    verbose=True\n",
    ")\n",
    "\n",
    "## Set input and target channels\n",
    "ds.set_input_channel_keys([input_channel_name])\n",
    "ds.set_target_channel_keys('OrigDNA')\n",
    "\n",
    "## Cache for faster training \n",
    "cds = CachedDataset(\n",
    "    ds,\n",
    "    prefill_cache=True\n",
    ")"
   ]
  },
  {
   "cell_type": "markdown",
   "metadata": {},
   "source": [
    "# FNet trainer"
   ]
  },
  {
   "cell_type": "markdown",
   "metadata": {},
   "source": [
    "## Train model without callback and check logs"
   ]
  },
  {
   "cell_type": "code",
   "execution_count": 7,
   "metadata": {},
   "outputs": [],
   "source": [
    "model = FNet(depth=4)\n",
    "lr = 3e-4\n",
    "optimizer = optim.Adam(model.parameters(), lr=lr, betas=(0.5, 0.999))\n",
    "\n",
    "trainer = Trainer(\n",
    "    model = model,\n",
    "    optimizer = optimizer,\n",
    "    backprop_loss = nn.L1Loss(),\n",
    "    dataset = cds,\n",
    "    batch_size = 16,\n",
    "    epochs = 10,\n",
    "    patience = 5,\n",
    "    callbacks=None,\n",
    "    metrics={'psnr': PSNR(_metric_name=\"psnr\"), 'ssim': SSIM(_metric_name=\"ssim\")},\n",
    "    device = 'cuda',\n",
    "    early_termination_metric = None\n",
    ")\n",
    "\n",
    "trainer.train()"
   ]
  },
  {
   "cell_type": "code",
   "execution_count": 8,
   "metadata": {},
   "outputs": [
    {
     "data": {
      "application/vnd.microsoft.datawrangler.viewer.v0+json": {
       "columns": [
        {
         "name": "index",
         "rawType": "int64",
         "type": "integer"
        },
        {
         "name": "epoch",
         "rawType": "int64",
         "type": "integer"
        },
        {
         "name": "L1Loss",
         "rawType": "float64",
         "type": "float"
        },
        {
         "name": "val_L1Loss",
         "rawType": "float64",
         "type": "float"
        },
        {
         "name": "psnr",
         "rawType": "float64",
         "type": "float"
        },
        {
         "name": "ssim",
         "rawType": "float64",
         "type": "float"
        },
        {
         "name": "val_psnr",
         "rawType": "float64",
         "type": "float"
        },
        {
         "name": "val_ssim",
         "rawType": "float64",
         "type": "float"
        }
       ],
       "conversionMethod": "pd.DataFrame",
       "ref": "2237c02b-050d-4bc4-96a9-d2b434018dd6",
       "rows": [
        [
         "0",
         "1",
         "1654.161892361111",
         "1732.5347290039062",
         "-70.21357727050781",
         "4.5400458392741427e-10",
         "-72.03308868408203",
         "-2.0762129515627947e-10"
        ],
        [
         "1",
         "2",
         "1459.8146294487847",
         "1732.483642578125",
         "-70.01566314697266",
         "3.972184525746769e-10",
         "-72.03304290771484",
         "-6.111769979000314e-10"
        ],
        [
         "2",
         "3",
         "1479.4542778862847",
         "1732.3735961914062",
         "-69.76534271240234",
         "-3.551711813543079e-09",
         "-72.03292846679688",
         "-7.745617480736655e-10"
        ],
        [
         "3",
         "4",
         "1701.387234157986",
         "1732.2918701171875",
         "-70.80377960205078",
         "-2.4463580050593237e-09",
         "-72.0328369140625",
         "-9.209836226986567e-10"
        ],
        [
         "4",
         "5",
         "1518.1278211805557",
         "1732.2307739257812",
         "-69.95247650146484",
         "-1.9029340325715793e-09",
         "-72.03276062011719",
         "-2.420394093483047e-11"
        ],
        [
         "5",
         "6",
         "1539.2418755425347",
         "1732.1984252929688",
         "-70.301513671875",
         "-1.5337545677951425e-09",
         "-72.0327377319336",
         "-1.9888851676697072e-10"
        ],
        [
         "6",
         "7",
         "1622.367404513889",
         "1732.1853637695312",
         "-70.65191650390625",
         "-7.977807858772223e-10",
         "-72.03273010253906",
         "1.3726973724370595e-10"
        ],
        [
         "7",
         "8",
         "1459.0545789930557",
         "1732.15673828125",
         "-69.77800750732422",
         "-3.6033390160561396e-10",
         "-72.03269958496094",
         "2.2110403785635668e-10"
        ],
        [
         "8",
         "9",
         "1517.9589301215278",
         "1732.1441650390625",
         "-70.22550201416016",
         "-3.7220068693777364e-10",
         "-72.03268432617188",
         "2.5674190551328024e-10"
        ],
        [
         "9",
         "10",
         "1507.1699761284722",
         "1732.1356811523438",
         "-70.26353454589844",
         "-8.363406495126569e-11",
         "-72.03267669677734",
         "3.592043329447847e-10"
        ]
       ],
       "shape": {
        "columns": 7,
        "rows": 10
       }
      },
      "text/html": [
       "<div>\n",
       "<style scoped>\n",
       "    .dataframe tbody tr th:only-of-type {\n",
       "        vertical-align: middle;\n",
       "    }\n",
       "\n",
       "    .dataframe tbody tr th {\n",
       "        vertical-align: top;\n",
       "    }\n",
       "\n",
       "    .dataframe thead th {\n",
       "        text-align: right;\n",
       "    }\n",
       "</style>\n",
       "<table border=\"1\" class=\"dataframe\">\n",
       "  <thead>\n",
       "    <tr style=\"text-align: right;\">\n",
       "      <th></th>\n",
       "      <th>epoch</th>\n",
       "      <th>L1Loss</th>\n",
       "      <th>val_L1Loss</th>\n",
       "      <th>psnr</th>\n",
       "      <th>ssim</th>\n",
       "      <th>val_psnr</th>\n",
       "      <th>val_ssim</th>\n",
       "    </tr>\n",
       "  </thead>\n",
       "  <tbody>\n",
       "    <tr>\n",
       "      <th>0</th>\n",
       "      <td>1</td>\n",
       "      <td>1654.161892</td>\n",
       "      <td>1732.534729</td>\n",
       "      <td>-70.213577</td>\n",
       "      <td>4.540046e-10</td>\n",
       "      <td>-72.033089</td>\n",
       "      <td>-2.076213e-10</td>\n",
       "    </tr>\n",
       "    <tr>\n",
       "      <th>1</th>\n",
       "      <td>2</td>\n",
       "      <td>1459.814629</td>\n",
       "      <td>1732.483643</td>\n",
       "      <td>-70.015663</td>\n",
       "      <td>3.972185e-10</td>\n",
       "      <td>-72.033043</td>\n",
       "      <td>-6.111770e-10</td>\n",
       "    </tr>\n",
       "    <tr>\n",
       "      <th>2</th>\n",
       "      <td>3</td>\n",
       "      <td>1479.454278</td>\n",
       "      <td>1732.373596</td>\n",
       "      <td>-69.765343</td>\n",
       "      <td>-3.551712e-09</td>\n",
       "      <td>-72.032928</td>\n",
       "      <td>-7.745617e-10</td>\n",
       "    </tr>\n",
       "    <tr>\n",
       "      <th>3</th>\n",
       "      <td>4</td>\n",
       "      <td>1701.387234</td>\n",
       "      <td>1732.291870</td>\n",
       "      <td>-70.803780</td>\n",
       "      <td>-2.446358e-09</td>\n",
       "      <td>-72.032837</td>\n",
       "      <td>-9.209836e-10</td>\n",
       "    </tr>\n",
       "    <tr>\n",
       "      <th>4</th>\n",
       "      <td>5</td>\n",
       "      <td>1518.127821</td>\n",
       "      <td>1732.230774</td>\n",
       "      <td>-69.952477</td>\n",
       "      <td>-1.902934e-09</td>\n",
       "      <td>-72.032761</td>\n",
       "      <td>-2.420394e-11</td>\n",
       "    </tr>\n",
       "    <tr>\n",
       "      <th>5</th>\n",
       "      <td>6</td>\n",
       "      <td>1539.241876</td>\n",
       "      <td>1732.198425</td>\n",
       "      <td>-70.301514</td>\n",
       "      <td>-1.533755e-09</td>\n",
       "      <td>-72.032738</td>\n",
       "      <td>-1.988885e-10</td>\n",
       "    </tr>\n",
       "    <tr>\n",
       "      <th>6</th>\n",
       "      <td>7</td>\n",
       "      <td>1622.367405</td>\n",
       "      <td>1732.185364</td>\n",
       "      <td>-70.651917</td>\n",
       "      <td>-7.977808e-10</td>\n",
       "      <td>-72.032730</td>\n",
       "      <td>1.372697e-10</td>\n",
       "    </tr>\n",
       "    <tr>\n",
       "      <th>7</th>\n",
       "      <td>8</td>\n",
       "      <td>1459.054579</td>\n",
       "      <td>1732.156738</td>\n",
       "      <td>-69.778008</td>\n",
       "      <td>-3.603339e-10</td>\n",
       "      <td>-72.032700</td>\n",
       "      <td>2.211040e-10</td>\n",
       "    </tr>\n",
       "    <tr>\n",
       "      <th>8</th>\n",
       "      <td>9</td>\n",
       "      <td>1517.958930</td>\n",
       "      <td>1732.144165</td>\n",
       "      <td>-70.225502</td>\n",
       "      <td>-3.722007e-10</td>\n",
       "      <td>-72.032684</td>\n",
       "      <td>2.567419e-10</td>\n",
       "    </tr>\n",
       "    <tr>\n",
       "      <th>9</th>\n",
       "      <td>10</td>\n",
       "      <td>1507.169976</td>\n",
       "      <td>1732.135681</td>\n",
       "      <td>-70.263535</td>\n",
       "      <td>-8.363406e-11</td>\n",
       "      <td>-72.032677</td>\n",
       "      <td>3.592043e-10</td>\n",
       "    </tr>\n",
       "  </tbody>\n",
       "</table>\n",
       "</div>"
      ],
      "text/plain": [
       "   epoch       L1Loss   val_L1Loss       psnr          ssim   val_psnr  \\\n",
       "0      1  1654.161892  1732.534729 -70.213577  4.540046e-10 -72.033089   \n",
       "1      2  1459.814629  1732.483643 -70.015663  3.972185e-10 -72.033043   \n",
       "2      3  1479.454278  1732.373596 -69.765343 -3.551712e-09 -72.032928   \n",
       "3      4  1701.387234  1732.291870 -70.803780 -2.446358e-09 -72.032837   \n",
       "4      5  1518.127821  1732.230774 -69.952477 -1.902934e-09 -72.032761   \n",
       "5      6  1539.241876  1732.198425 -70.301514 -1.533755e-09 -72.032738   \n",
       "6      7  1622.367405  1732.185364 -70.651917 -7.977808e-10 -72.032730   \n",
       "7      8  1459.054579  1732.156738 -69.778008 -3.603339e-10 -72.032700   \n",
       "8      9  1517.958930  1732.144165 -70.225502 -3.722007e-10 -72.032684   \n",
       "9     10  1507.169976  1732.135681 -70.263535 -8.363406e-11 -72.032677   \n",
       "\n",
       "       val_ssim  \n",
       "0 -2.076213e-10  \n",
       "1 -6.111770e-10  \n",
       "2 -7.745617e-10  \n",
       "3 -9.209836e-10  \n",
       "4 -2.420394e-11  \n",
       "5 -1.988885e-10  \n",
       "6  1.372697e-10  \n",
       "7  2.211040e-10  \n",
       "8  2.567419e-10  \n",
       "9  3.592043e-10  "
      ]
     },
     "execution_count": 8,
     "metadata": {},
     "output_type": "execute_result"
    }
   ],
   "source": [
    "pd.DataFrame(trainer.log)"
   ]
  },
  {
   "cell_type": "markdown",
   "metadata": {},
   "source": [
    "## Train model with alternative early termination metric"
   ]
  },
  {
   "cell_type": "code",
   "execution_count": 9,
   "metadata": {},
   "outputs": [
    {
     "name": "stdout",
     "output_type": "stream",
     "text": [
      "Early termination at epoch 6 with best validation metric -70.00389099121094\n"
     ]
    }
   ],
   "source": [
    "model = FNet(depth=4)\n",
    "lr = 3e-4\n",
    "optimizer = optim.Adam(model.parameters(), lr=lr, betas=(0.5, 0.999))\n",
    "\n",
    "trainer = Trainer(\n",
    "    model = model,\n",
    "    optimizer = optimizer,\n",
    "    backprop_loss = nn.L1Loss(),\n",
    "    dataset = cds,\n",
    "    batch_size = 16,\n",
    "    epochs = 10,\n",
    "    patience = 5,\n",
    "    callbacks=None,\n",
    "    metrics={'psnr': PSNR(_metric_name=\"psnr\"), 'ssim': SSIM(_metric_name=\"ssim\")},\n",
    "    device = 'cuda',\n",
    "    early_termination_metric = 'psnr' # set early termination metric as psnr for the sake of demonstration\n",
    ")\n",
    "\n",
    "trainer.train()"
   ]
  },
  {
   "cell_type": "markdown",
   "metadata": {},
   "source": [
    "## Train with mlflow logger callbacks"
   ]
  },
  {
   "cell_type": "code",
   "execution_count": 10,
   "metadata": {},
   "outputs": [],
   "source": [
    "mlflow_logger_callback = MlflowLogger(\n",
    "        name='mlflow_logger',\n",
    "        mlflow_uri=MLFLOW_DIR / 'mlruns',\n",
    "        mlflow_experiment_name='Default',\n",
    "        mlflow_start_run_args={'run_name': 'example_train', 'nested': True},\n",
    "        mlflow_log_params_args={\n",
    "            'lr': 3e-4\n",
    "        },\n",
    "    )\n",
    "\n",
    "del trainer\n",
    "\n",
    "trainer = Trainer(\n",
    "    model = model,\n",
    "    optimizer = optimizer,\n",
    "    backprop_loss = nn.L1Loss(),\n",
    "    dataset = cds,\n",
    "    batch_size = 16,\n",
    "    epochs = 10,\n",
    "    patience = 5,\n",
    "    callbacks=[mlflow_logger_callback],\n",
    "    metrics={'psnr': PSNR(_metric_name=\"psnr\"), 'ssim': SSIM(_metric_name=\"ssim\")},\n",
    "    device = 'cuda'\n",
    ")\n",
    "\n",
    "trainer.train()"
   ]
  },
  {
   "cell_type": "markdown",
   "metadata": {},
   "source": [
    "# wGaN GP example with mlflow logger callback and plot callback"
   ]
  },
  {
   "cell_type": "code",
   "execution_count": null,
   "metadata": {},
   "outputs": [],
   "source": [
    "generator = UNet(\n",
    "    n_channels=1,\n",
    "    n_classes=1\n",
    ")\n",
    "\n",
    "discriminator = GlobalDiscriminator(\n",
    "    n_in_channels = 2,\n",
    "    n_in_filters = 64,\n",
    "    _conv_depth = 4,\n",
    "    _pool_before_fc = True\n",
    ")\n",
    "\n",
    "generator_optimizer = optim.Adam(generator.parameters(), \n",
    "                                 lr=0.0002, \n",
    "                                 betas=(0., 0.9))\n",
    "discriminator_optimizer = optim.Adam(discriminator.parameters(), \n",
    "                                     lr=0.00002, \n",
    "                                     betas=(0., 0.9),\n",
    "                                     weight_decay=0.001)\n",
    "\n",
    "gp_loss = GradientPenaltyLoss(\n",
    "    _metric_name='gp_loss',\n",
    "    discriminator=discriminator,\n",
    "    weight=10.0,\n",
    ")\n",
    "\n",
    "gen_loss = GeneratorLoss(\n",
    "    _metric_name='gen_loss'\n",
    ")\n",
    "\n",
    "disc_loss = DiscriminatorLoss(\n",
    "    _metric_name='disc_loss'\n",
    ")\n",
    "\n",
    "mlflow_logger_callback = MlflowLogger(\n",
    "        name='mlflow_logger',\n",
    "        mlflow_uri=MLFLOW_DIR / 'mlruns',\n",
    "        mlflow_experiment_name='Default',\n",
    "        mlflow_start_run_args={'run_name': 'example_train_wgan', 'nested': True},\n",
    "        mlflow_log_params_args={\n",
    "            'gen_lr': 0.0002,\n",
    "            'disc_lr': 0.00002\n",
    "        },\n",
    "    )\n",
    "\n",
    "plot_callback = IntermediatePlot(\n",
    "    name='plotter',\n",
    "    path=PLOT_DIR,\n",
    "    dataset=ds, # give it the patch dataset as opposed to the cached dataset\n",
    "    indices=[1,3,5,7,9], # plot 5 selected patches images from the dataset\n",
    "    plot_metrics=[SSIM(_metric_name='ssim'), PSNR(_metric_name='psnr')],\n",
    "    figsize=(20, 25),\n",
    "    show_plot=False,\n",
    ")\n",
    "\n",
    "wgan_trainer = WGaNTrainer(\n",
    "    dataset=cds,\n",
    "    batch_size=16,\n",
    "    epochs=20,\n",
    "    patience=20, # setting this to prevent unwanted early termination here\n",
    "    device='cuda',\n",
    "    generator=generator,\n",
    "    discriminator=discriminator,\n",
    "    gen_optimizer=generator_optimizer,\n",
    "    disc_optimizer=discriminator_optimizer,\n",
    "    generator_loss_fn=gen_loss,\n",
    "    discriminator_loss_fn=disc_loss,\n",
    "    gradient_penalty_fn=gp_loss,\n",
    "    discriminator_update_freq=1,\n",
    "    generator_update_freq=2,\n",
    "    callbacks=[mlflow_logger_callback, plot_callback],\n",
    "    metrics={'ssim': SSIM(_metric_name='ssim'), \n",
    "             'psnr': PSNR(_metric_name='psnr')}\n",
    ")\n",
    "\n",
    "wgan_trainer.train()\n",
    "\n",
    "del generator\n",
    "del wgan_trainer"
   ]
  },
  {
   "cell_type": "markdown",
   "metadata": {},
   "source": [
    "## # wGaN GP example with mlflow logger callback and alternative early termination loss"
   ]
  },
  {
   "cell_type": "code",
   "execution_count": 13,
   "metadata": {},
   "outputs": [],
   "source": [
    "generator = UNet(\n",
    "    n_channels=1,\n",
    "    n_classes=1\n",
    ")\n",
    "\n",
    "discriminator = GlobalDiscriminator(\n",
    "    n_in_channels = 2,\n",
    "    n_in_filters = 64,\n",
    "    _conv_depth = 4,\n",
    "    _pool_before_fc = True\n",
    ")\n",
    "\n",
    "generator_optimizer = optim.Adam(generator.parameters(), \n",
    "                                 lr=0.0002, \n",
    "                                 betas=(0., 0.9))\n",
    "discriminator_optimizer = optim.Adam(discriminator.parameters(), \n",
    "                                     lr=0.00002, \n",
    "                                     betas=(0., 0.9),\n",
    "                                     weight_decay=0.001)\n",
    "\n",
    "gp_loss = GradientPenaltyLoss(\n",
    "    _metric_name='gp_loss',\n",
    "    discriminator=discriminator,\n",
    "    weight=10.0,\n",
    ")\n",
    "\n",
    "gen_loss = GeneratorLoss(\n",
    "    _metric_name='gen_loss'\n",
    ")\n",
    "\n",
    "disc_loss = DiscriminatorLoss(\n",
    "    _metric_name='disc_loss'\n",
    ")\n",
    "\n",
    "mlflow_logger_callback = MlflowLogger(\n",
    "        name='mlflow_logger',\n",
    "        mlflow_uri=MLFLOW_DIR / 'mlruns',\n",
    "        mlflow_experiment_name='Default',\n",
    "        mlflow_start_run_args={'run_name': 'example_train_wgan_mae_early_term', 'nested': True},\n",
    "        mlflow_log_params_args={\n",
    "            'gen_lr': 0.0002,\n",
    "            'disc_lr': 0.00002\n",
    "        },\n",
    "    )\n",
    "\n",
    "wgan_trainer = WGaNTrainer(\n",
    "    dataset=cds,\n",
    "    batch_size=16,\n",
    "    epochs=20,\n",
    "    patience=5, # lower patience here\n",
    "    device='cuda',\n",
    "    generator=generator,\n",
    "    discriminator=discriminator,\n",
    "    gen_optimizer=generator_optimizer,\n",
    "    disc_optimizer=discriminator_optimizer,\n",
    "    generator_loss_fn=gen_loss,\n",
    "    discriminator_loss_fn=disc_loss,\n",
    "    gradient_penalty_fn=gp_loss,\n",
    "    discriminator_update_freq=1,\n",
    "    generator_update_freq=2,\n",
    "    callbacks=[mlflow_logger_callback],\n",
    "    metrics={'ssim': SSIM(_metric_name='ssim'), \n",
    "             'psnr': PSNR(_metric_name='psnr'),\n",
    "             'mae': MetricsWrapper(_metric_name='mae', module=nn.L1Loss()) # use a wrapper for torch nn L1Loss\n",
    "             },\n",
    "    early_termination_metric = 'mae' # update early temrination loss with the supplied L1Loss/mae metric instead of the default GaN generator loss\n",
    ")\n",
    "\n",
    "wgan_trainer.train()"
   ]
  }
 ],
 "metadata": {
  "kernelspec": {
   "display_name": "cp_gan_env",
   "language": "python",
   "name": "python3"
  },
  "language_info": {
   "codemirror_mode": {
    "name": "ipython",
    "version": 3
   },
   "file_extension": ".py",
   "mimetype": "text/x-python",
   "name": "python",
   "nbconvert_exporter": "python",
   "pygments_lexer": "ipython3",
   "version": "3.9.21"
  }
 },
 "nbformat": 4,
 "nbformat_minor": 2
}
